{
 "cells": [
  {
   "cell_type": "code",
   "execution_count": 6,
   "metadata": {},
   "outputs": [],
   "source": [
    "import os\n",
    "from datasets import load_dataset, load_from_disk\n",
    "import matplotlib.pyplot as plt\n",
    "import numpy as np\n",
    "\n",
    "ROOT = '../data'\n",
    "DATASET_ID = 'orcamath'\n",
    "DATA_DIR = f'{ROOT}/{DATASET_ID}'"
   ]
  },
  {
   "cell_type": "markdown",
   "metadata": {},
   "source": [
    "## OrcaMath\n",
    "\n",
    "In this notebook, we explore and filter the OrcaMath dataset.\n",
    "\n",
    "HF: https://huggingface.co/datasets/microsoft/orca-math-word-problems-200k\n",
    "\n",
    "Paper: https://arxiv.org/pdf/2402.14830"
   ]
  },
  {
   "cell_type": "code",
   "execution_count": 8,
   "metadata": {},
   "outputs": [],
   "source": [
    "if not os.path.isdir(DATA_DIR):\n",
    "    orca_math = load_dataset('microsoft/orca-math-word-problems-200k')\n",
    "    orca_math = orca_math['train']\n",
    "    orca_math.save_to_disk(DATA_DIR)\n",
    "else:\n",
    "    orca_math = load_from_disk(DATA_DIR)"
   ]
  },
  {
   "cell_type": "markdown",
   "metadata": {},
   "source": [
    "Let's have a look"
   ]
  },
  {
   "cell_type": "code",
   "execution_count": 80,
   "metadata": {},
   "outputs": [
    {
     "name": "stdout",
     "output_type": "stream",
     "text": [
      "Dataset({\n",
      "    features: ['question', 'answer'],\n",
      "    num_rows: 200035\n",
      "})\n"
     ]
    }
   ],
   "source": [
    "print(orca_math)"
   ]
  },
  {
   "cell_type": "code",
   "execution_count": 81,
   "metadata": {},
   "outputs": [
    {
     "name": "stdout",
     "output_type": "stream",
     "text": [
      "{'question': 'Jungkook is the 5th place. Find the number of people who crossed the finish line faster than Jungkook.', 'answer': 'If Jungkook is in 5th place, then 4 people crossed the finish line faster than him.'}\n"
     ]
    }
   ],
   "source": [
    "print(orca_math[0])"
   ]
  },
  {
   "cell_type": "markdown",
   "metadata": {},
   "source": [
    "How long are they?"
   ]
  },
  {
   "cell_type": "code",
   "execution_count": 82,
   "metadata": {},
   "outputs": [
    {
     "data": {
      "image/png": "[encoded data removed]",
      "text/plain": [
       "<Figure size 800x500 with 2 Axes>"
      ]
     },
     "metadata": {},
     "output_type": "display_data"
    }
   ],
   "source": [
    "# Histogram of question/answer lengths\n",
    "fig, axs = plt.subplots(1, 2, figsize=(8, 5))\n",
    "ax1, ax2 = axs\n",
    "\n",
    "ax1.hist(list(map(len, orca_math['question'])), bins=np.logspace(1, 3, 20), )\n",
    "ax2.hist(list(map(len, orca_math['answer'])), bins=np.logspace(1, 3.5, 20))\n",
    "\n",
    "ax1.set_xlabel('Chars')\n",
    "ax1.set_xscale('log')\n",
    "ax1.set_yscale('log')\n",
    "ax1.set_ylabel('Freq')\n",
    "ax1.set_title('Question char freq.')\n",
    "ax2.set_xlabel('Chars')\n",
    "ax2.set_ylabel('Freq')\n",
    "ax2.set_xscale('log')\n",
    "ax2.set_yscale('log')\n",
    "ax2.set_title('Answer char freq.')\n",
    "\n",
    "plt.show()"
   ]
  },
  {
   "cell_type": "markdown",
   "metadata": {},
   "source": [
    "Let's try filtering the answers based on length (>1000 chars), in an attempt to only retain harder question-answer pairs."
   ]
  },
  {
   "cell_type": "code",
   "execution_count": 83,
   "metadata": {},
   "outputs": [
    {
     "data": {
      "text/plain": [
       "73474"
      ]
     },
     "execution_count": 83,
     "metadata": {},
     "output_type": "execute_result"
    }
   ],
   "source": [
    "orca_math_filtered = orca_math.filter(lambda s: len(s['answer']) >= 1000)\n",
    "len(orca_math_filtered)"
   ]
  }
 ],
 "metadata": {
  "kernelspec": {
   "display_name": "mnlp-project",
   "language": "python",
   "name": "python3"
  },
  "language_info": {
   "codemirror_mode": {
    "name": "ipython",
    "version": 3
   },
   "file_extension": ".py",
   "mimetype": "text/x-python",
   "name": "python",
   "nbconvert_exporter": "python",
   "pygments_lexer": "ipython3",
   "version": "3.10.13"
  }
 },
 "nbformat": 4,
 "nbformat_minor": 2
}

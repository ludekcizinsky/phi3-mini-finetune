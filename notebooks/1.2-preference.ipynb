{
    "cells": [
        {
            "cell_type": "markdown",
            "metadata": {},
            "source": [
                "### Preference Data\n",
                "\n",
                "This notebook takes the raw data obtained from preference data collection in CS-552, performs a little EDA, flattens the fields, and saves it back to memroy so as ready to be loaded by the `PreferenceData` class."
            ]
        },
        {
            "cell_type": "code",
            "execution_count": 13,
            "metadata": {},
            "outputs": [],
            "source": [
                "import autorootcwd\n",
                "\n",
                "%reload_ext autoreload\n",
                "%autoreload 2"
            ]
        },
        {
            "cell_type": "code",
            "execution_count": 42,
            "metadata": {},
            "outputs": [],
            "source": [
                "import pandas as pd\n",
                "import matplotlib.pyplot as plt\n",
                "import os\n",
                "from datasets import Dataset, DatasetDict, load_from_disk, load_dataset, concatenate_datasets\n",
                "\n",
                "ROOT = './data'\n",
                "DATASET_ID = 'preference'\n",
                "DATA_DIR = f'{ROOT}/{DATASET_ID}'\n",
                "INPUT_FILE = f'{DATA_DIR}/raw_preference.json'"
            ]
        },
        {
            "cell_type": "code",
            "execution_count": 25,
            "metadata": {},
            "outputs": [
                {
                    "data": {
                        "text/plain": [
                            "(1522,\n",
                            " 1522,\n",
                            " Index(['question_id', 'question_complete', 'course_id', 'preference'], dtype='object'))"
                        ]
                    },
                    "execution_count": 25,
                    "metadata": {},
                    "output_type": "execute_result"
                }
            ],
            "source": [
                "raw_df = pd.read_json(INPUT_FILE)\n",
                "\n",
                "# Inspect the data, checking that each question appears once\n",
                "len(raw_df), raw_df['question_id'].nunique(), raw_df.columns"
            ]
        },
        {
            "cell_type": "code",
            "execution_count": 26,
            "metadata": {},
            "outputs": [
                {
                    "data": {
                        "text/html": [
                            "<div>\n",
                            "<style scoped>\n",
                            "    .dataframe tbody tr th:only-of-type {\n",
                            "        vertical-align: middle;\n",
                            "    }\n",
                            "\n",
                            "    .dataframe tbody tr th {\n",
                            "        vertical-align: top;\n",
                            "    }\n",
                            "\n",
                            "    .dataframe thead th {\n",
                            "        text-align: right;\n",
                            "    }\n",
                            "</style>\n",
                            "<table border=\"1\" class=\"dataframe\">\n",
                            "  <thead>\n",
                            "    <tr style=\"text-align: right;\">\n",
                            "      <th></th>\n",
                            "      <th>question_id</th>\n",
                            "      <th>question_complete</th>\n",
                            "      <th>course_id</th>\n",
                            "      <th>preference</th>\n",
                            "    </tr>\n",
                            "  </thead>\n",
                            "  <tbody>\n",
                            "    <tr>\n",
                            "      <th>0</th>\n",
                            "      <td>0</td>\n",
                            "      <td>Question: Consider the following contains func...</td>\n",
                            "      <td>15000</td>\n",
                            "      <td>[{'A': 'The asymptotic depth of the contains f...</td>\n",
                            "    </tr>\n",
                            "    <tr>\n",
                            "      <th>1</th>\n",
                            "      <td>3</td>\n",
                            "      <td>Question: What is the asymptotic work of &lt;code...</td>\n",
                            "      <td>15000</td>\n",
                            "      <td>[{'A': '...', 'B': '...', 'overall': 'A', 'cri...</td>\n",
                            "    </tr>\n",
                            "    <tr>\n",
                            "      <th>2</th>\n",
                            "      <td>4</td>\n",
                            "      <td>Question: We have a collection of rectangles i...</td>\n",
                            "      <td>15000</td>\n",
                            "      <td>[{'A': 'Facts:\n",
                            "- Rectangles in the plane have ...</td>\n",
                            "    </tr>\n",
                            "    <tr>\n",
                            "      <th>3</th>\n",
                            "      <td>5</td>\n",
                            "      <td>Question: Which of the following scheduler pol...</td>\n",
                            "      <td>15005</td>\n",
                            "      <td>[{'A': 'Preemptive scheduling policies allow t...</td>\n",
                            "    </tr>\n",
                            "    <tr>\n",
                            "      <th>4</th>\n",
                            "      <td>7</td>\n",
                            "      <td>Question: In this week's lecture, you have bee...</td>\n",
                            "      <td>15000</td>\n",
                            "      <td>[{'A': 'For the computation g(g(1, x1), g(x2, ...</td>\n",
                            "    </tr>\n",
                            "  </tbody>\n",
                            "</table>\n",
                            "</div>"
                        ],
                        "text/plain": [
                            "   question_id                                  question_complete  course_id  \\\n",
                            "0            0  Question: Consider the following contains func...      15000   \n",
                            "1            3  Question: What is the asymptotic work of <code...      15000   \n",
                            "2            4  Question: We have a collection of rectangles i...      15000   \n",
                            "3            5  Question: Which of the following scheduler pol...      15005   \n",
                            "4            7  Question: In this week's lecture, you have bee...      15000   \n",
                            "\n",
                            "                                          preference  \n",
                            "0  [{'A': 'The asymptotic depth of the contains f...  \n",
                            "1  [{'A': '...', 'B': '...', 'overall': 'A', 'cri...  \n",
                            "2  [{'A': 'Facts:\n",
                            "- Rectangles in the plane have ...  \n",
                            "3  [{'A': 'Preemptive scheduling policies allow t...  \n",
                            "4  [{'A': 'For the computation g(g(1, x1), g(x2, ...  "
                        ]
                    },
                    "execution_count": 26,
                    "metadata": {},
                    "output_type": "execute_result"
                }
            ],
            "source": [
                "raw_df.head()"
            ]
        },
        {
            "cell_type": "markdown",
            "metadata": {},
            "source": [
                "We notice that each `question_id` contains multiple preferences. Let's see how many"
            ]
        },
        {
            "cell_type": "code",
            "execution_count": 27,
            "metadata": {},
            "outputs": [
                {
                    "name": "stdout",
                    "output_type": "stream",
                    "text": [
                        "18 preference pairs for first question\n"
                    ]
                },
                {
                    "data": {
                        "image/png": "[encoded data removed]",
                        "text/plain": [
                            "<Figure size 640x480 with 1 Axes>"
                        ]
                    },
                    "metadata": {},
                    "output_type": "display_data"
                }
            ],
            "source": [
                "print(len(raw_df['preference'][0]), 'preference pairs for first question')\n",
                "\n",
                "num_prefs = []\n",
                "for row in raw_df['preference']:\n",
                "    num_prefs.append(len(row))\n",
                "\n",
                "plt.hist(num_prefs, bins=range(1, 30))\n",
                "plt.xlabel('Number of preference pairs')\n",
                "plt.ylabel('Number of questions')\n",
                "plt.title('Number of preference pairs per question')\n",
                "plt.show()"
            ]
        },
        {
            "cell_type": "markdown",
            "metadata": {},
            "source": [
                "Let's now make this easier to work with. First, we create a version with all the keys still avaibable, just with the preference pairs flattened."
            ]
        },
        {
            "cell_type": "code",
            "execution_count": 28,
            "metadata": {},
            "outputs": [
                {
                    "data": {
                        "text/plain": [
                            "26738"
                        ]
                    },
                    "execution_count": 28,
                    "metadata": {},
                    "output_type": "execute_result"
                }
            ],
            "source": [
                "out_rows = []\n",
                "\n",
                "for idx, row in raw_df.iterrows():\n",
                "    preferences = row['preference']\n",
                "    for pref in preferences:\n",
                "        out_row = {\n",
                "            'question_id': row['question_id'],\n",
                "            'question_complete': row['question_complete'],\n",
                "            'course_id': row['course_id'],\n",
                "            'A': pref['A'],\n",
                "            'B': pref['B'],\n",
                "            'overall': pref['overall'],\n",
                "        }\n",
                "        out_row.update(pref['criteria'])\n",
                "        out_rows.append(out_row)\n",
                "\n",
                "df = pd.DataFrame(out_rows)\n",
                "\n",
                "len(df)"
            ]
        },
        {
            "cell_type": "code",
            "execution_count": 29,
            "metadata": {},
            "outputs": [
                {
                    "data": {
                        "text/html": [
                            "<div>\n",
                            "<style scoped>\n",
                            "    .dataframe tbody tr th:only-of-type {\n",
                            "        vertical-align: middle;\n",
                            "    }\n",
                            "\n",
                            "    .dataframe tbody tr th {\n",
                            "        vertical-align: top;\n",
                            "    }\n",
                            "\n",
                            "    .dataframe thead th {\n",
                            "        text-align: right;\n",
                            "    }\n",
                            "</style>\n",
                            "<table border=\"1\" class=\"dataframe\">\n",
                            "  <thead>\n",
                            "    <tr style=\"text-align: right;\">\n",
                            "      <th></th>\n",
                            "      <th>question_id</th>\n",
                            "      <th>question_complete</th>\n",
                            "      <th>course_id</th>\n",
                            "      <th>A</th>\n",
                            "      <th>B</th>\n",
                            "      <th>overall</th>\n",
                            "      <th>correctness</th>\n",
                            "      <th>relevance</th>\n",
                            "      <th>clarity</th>\n",
                            "      <th>completeness</th>\n",
                            "      <th>other</th>\n",
                            "      <th>modified</th>\n",
                            "    </tr>\n",
                            "  </thead>\n",
                            "  <tbody>\n",
                            "    <tr>\n",
                            "      <th>0</th>\n",
                            "      <td>0</td>\n",
                            "      <td>Question: Consider the following contains func...</td>\n",
                            "      <td>15000</td>\n",
                            "      <td>The asymptotic depth of the contains function ...</td>\n",
                            "      <td>When `contains` is called on a List, the `drop...</td>\n",
                            "      <td>B</td>\n",
                            "      <td>B</td>\n",
                            "      <td>B</td>\n",
                            "      <td>AB</td>\n",
                            "      <td>B</td>\n",
                            "      <td>Conciseness: A; Engagement: B</td>\n",
                            "      <td>NaN</td>\n",
                            "    </tr>\n",
                            "    <tr>\n",
                            "      <th>1</th>\n",
                            "      <td>0</td>\n",
                            "      <td>Question: Consider the following contains func...</td>\n",
                            "      <td>15000</td>\n",
                            "      <td>The asymptotic depth of the contains function ...</td>\n",
                            "      <td>To determine the asymptotic depth of the `cont...</td>\n",
                            "      <td>B</td>\n",
                            "      <td>AB</td>\n",
                            "      <td>AB</td>\n",
                            "      <td>B</td>\n",
                            "      <td>B</td>\n",
                            "      <td>Conciseness: A; Engagement: AB</td>\n",
                            "      <td>NaN</td>\n",
                            "    </tr>\n",
                            "  </tbody>\n",
                            "</table>\n",
                            "</div>"
                        ],
                        "text/plain": [
                            "   question_id                                  question_complete  course_id  \\\n",
                            "0            0  Question: Consider the following contains func...      15000   \n",
                            "1            0  Question: Consider the following contains func...      15000   \n",
                            "\n",
                            "                                                   A  \\\n",
                            "0  The asymptotic depth of the contains function ...   \n",
                            "1  The asymptotic depth of the contains function ...   \n",
                            "\n",
                            "                                                   B overall correctness  \\\n",
                            "0  When `contains` is called on a List, the `drop...       B           B   \n",
                            "1  To determine the asymptotic depth of the `cont...       B          AB   \n",
                            "\n",
                            "  relevance clarity completeness                           other modified  \n",
                            "0         B      AB            B   Conciseness: A; Engagement: B      NaN  \n",
                            "1        AB       B            B  Conciseness: A; Engagement: AB      NaN  "
                        ]
                    },
                    "execution_count": 29,
                    "metadata": {},
                    "output_type": "execute_result"
                }
            ],
            "source": [
                "df.head(2)"
            ]
        },
        {
            "cell_type": "code",
            "execution_count": 30,
            "metadata": {},
            "outputs": [
                {
                    "name": "stderr",
                    "output_type": "stream",
                    "text": [
                        "Saving the dataset (1/1 shards): 100%|██████████| 21390/21390 [00:00<00:00, 44072.10 examples/s]\n",
                        "Saving the dataset (1/1 shards): 100%|██████████| 5348/5348 [00:00<00:00, 42225.31 examples/s]\n"
                    ]
                }
            ],
            "source": [
                "# To HF Dataset\n",
                "dataset = Dataset.from_pandas(df)\n",
                "train, val = dataset.train_test_split(test_size=0.2).values()\n",
                "\n",
                "collection = DatasetDict({\n",
                "    'train': train,\n",
                "    'val': val\n",
                "})\n",
                "\n",
                "collection.save_to_disk(DATA_DIR)"
            ]
        },
        {
            "cell_type": "markdown",
            "metadata": {},
            "source": [
                "We now need to convert this to the expected format of a list of dicts with 3 keys:\n",
                "\n",
                "```\n",
                "[\n",
                "    {'prompt': ..., 'chosen': ..., 'rejected': ...},\n",
                "    { ... }\n",
                "]\n",
                "```"
            ]
        },
        {
            "cell_type": "markdown",
            "metadata": {},
            "source": [
                "## Filtering\n",
                "\n",
                "Let's explore some filtering options:\n",
                "- Take the first preference pair for each question\n",
                "- Take the preference pairs with most or least agreement (most certain) either:\n",
                "    - on a per question basis, take the maximally agreeing questions\n",
                "    - on a global score basis"
            ]
        },
        {
            "cell_type": "code",
            "execution_count": 49,
            "metadata": {},
            "outputs": [],
            "source": [
                "def load_whole_dataset() -> pd.DataFrame:\n",
                "    hf_dict = DatasetDict.load_from_disk(DATA_DIR)\n",
                "    hf_dataset = concatenate_datasets([hf_dict['train'], hf_dict['val']])\n",
                "    return hf_dataset.to_pandas()\n",
                "\n",
                "df = load_whole_dataset()"
            ]
        },
        {
            "cell_type": "markdown",
            "metadata": {},
            "source": [
                "### Agreement Metric\n",
                "\n",
                "Let's investigate this agreement metric"
            ]
        },
        {
            "cell_type": "code",
            "execution_count": 44,
            "metadata": {},
            "outputs": [
                {
                    "data": {
                        "image/png": "[encoded data removed]",
                        "text/plain": [
                            "<Figure size 640x480 with 1 Axes>"
                        ]
                    },
                    "metadata": {},
                    "output_type": "display_data"
                }
            ],
            "source": [
                "agreement = df.copy(deep=True)\n",
                "choice = agreement['overall']\n",
                "agreement['agreement'] = (agreement[\"correctness\"] == choice).astype(int) + (agreement[\"relevance\"] == choice).astype(int) + (agreement[\"clarity\"] == choice).astype(int) + (agreement[\"completeness\"] == choice).astype(int)\n",
                "\n",
                "# Plot bar chart of agreement\n",
                "agreement['agreement'].value_counts().sort_index().plot(kind='bar')\n",
                "plt.show()"
            ]
        },
        {
            "cell_type": "code",
            "execution_count": 45,
            "metadata": {},
            "outputs": [],
            "source": [
                "# Define filter for global agreement\n",
                "def global_agreement(row, score=2):\n",
                "    return row['agreement'] >= score\n",
                "\n",
                "def global_disagreement(row, score=2):\n",
                "    return row['agreement'] <= score\n",
                "\n",
                "# Define filter for higher and lowest agreement on a per question basis\n",
                "def get_highest_agreement(group, tolerance=1):\n",
                "    choice = group['overall'] # The overall best\n",
                "\n",
                "    # Add 1 for each column in agreement with the overall choice\n",
                "    group['agreement'] = (group['correctness'] == choice).astype(int) + (group['relevance'] == choice).astype(int) + (group['clarity'] == choice).astype(int) + (group['completeness'] == choice).astype(int)\n",
                "\n",
                "    # Return only those with the max agreement with tolerance\n",
                "    max_agreement = group['agreement'].max()\n",
                "    return group[group['agreement'] >= max_agreement - tolerance]\n",
                "\n",
                "def topk(group, k=3):\n",
                "    choice = group['overall'] # The overall best\n",
                "\n",
                "    # Add 1 for each column in agreement with the overall choice\n",
                "    group['agreement'] = (group['correctness'] == choice).astype(int) + (group['relevance'] == choice).astype(int) + (group['clarity'] == choice).astype(int) + (group['completeness'] == choice).astype(int)\n",
                "\n",
                "    return group.nlargest(k, 'agreement', keep='all')\n",
                "\n",
                "def bottomk(group, k=3):\n",
                "    choice = group['overall'] # The overall best\n",
                "\n",
                "    # Add 1 for each column in agreement with the overall choice\n",
                "    group['agreement'] = (group['correctness'] == choice).astype(int) + (group['relevance'] == choice).astype(int) + (group['clarity'] == choice).astype(int) + (group['completeness'] == choice).astype(int)\n",
                "\n",
                "    return group.nsmallest(k, 'agreement', keep='all')\n",
                "\n",
                "def get_lowest_agreement(group, tolerance=1):\n",
                "    choice = group['overall'] # The overall best\n",
                "\n",
                "    # Add 1 for each column in agreement with the overall choice\n",
                "    group['agreement'] = (group['correctness'] == choice).astype(int) + (group['relevance'] == choice).astype(int) + (group['clarity'] == choice).astype(int) + (group['completeness'] == choice).astype(int)\n",
                "\n",
                "    # Return only those with the max agreement with tolerance\n",
                "    min_agreement = group['agreement'].min()\n",
                "    return group[group['agreement'] <= min_agreement + tolerance]"
            ]
        },
        {
            "cell_type": "markdown",
            "metadata": {},
            "source": [
                "### Summary of Filtering Lengths"
            ]
        },
        {
            "cell_type": "code",
            "execution_count": 46,
            "metadata": {},
            "outputs": [
                {
                    "name": "stdout",
                    "output_type": "stream",
                    "text": [
                        "One per question\n",
                        "1522\n",
                        "Agreement >= 2\n",
                        "9334\n",
                        "Agreement <= 2\n",
                        "12715\n",
                        "Per question max, tolerance=1\n",
                        "9334\n",
                        "Per question min, tolerance=1\n",
                        "12715\n",
                        "Top 3 per question + ties\n",
                        "7435\n",
                        "Bottom 3 per question + ties\n",
                        "9139\n"
                    ]
                }
            ],
            "source": [
                "print('One per question')\n",
                "print(len(df.groupby('question_id').first().reset_index()))\n",
                "\n",
                "print('Agreement >= 2')\n",
                "filtered_certain = df.groupby('question_id').apply(get_highest_agreement, include_groups=False)\n",
                "print(len(filtered_certain))\n",
                "\n",
                "print('Agreement <= 2')\n",
                "filtered_uncertain = df.groupby('question_id').apply(get_lowest_agreement, include_groups=False)\n",
                "print(len(filtered_uncertain))\n",
                "\n",
                "print('Per question max, tolerance=1')\n",
                "filtered_certain = df.groupby('question_id').apply(get_highest_agreement, tolerance=1, include_groups=False)\n",
                "print(len(filtered_certain))\n",
                "\n",
                "print('Per question min, tolerance=1')\n",
                "filtered_uncertain = df.groupby('question_id').apply(get_lowest_agreement, tolerance=1, include_groups=False)\n",
                "print(len(filtered_uncertain))\n",
                "\n",
                "print('Top 3 per question + ties')\n",
                "filtered_certain = df.groupby('question_id').apply(topk, include_groups=False)\n",
                "print(len(filtered_certain))\n",
                "\n",
                "print('Bottom 3 per question + ties')\n",
                "filtered_uncertain = df.groupby('question_id').apply(bottomk, include_groups=False)\n",
                "print(len(filtered_uncertain))\n"
            ]
        },
        {
            "cell_type": "markdown",
            "metadata": {},
            "source": [
                "### Length Analysis"
            ]
        },
        {
            "cell_type": "code",
            "execution_count": 50,
            "metadata": {},
            "outputs": [],
            "source": [
                "df = load_whole_dataset()"
            ]
        },
        {
            "cell_type": "code",
            "execution_count": 60,
            "metadata": {},
            "outputs": [
                {
                    "data": {
                        "image/png": "[encoded data removed]",
                        "text/plain": [
                            "<Figure size 640x480 with 1 Axes>"
                        ]
                    },
                    "metadata": {},
                    "output_type": "display_data"
                },
                {
                    "name": "stdout",
                    "output_type": "stream",
                    "text": [
                        "Chosen: 1121.1228588525694\n",
                        "Rejected: 908.0270401675518\n"
                    ]
                }
            ],
            "source": [
                "lengths_chosen = []\n",
                "lengths_rejected = []\n",
                "\n",
                "for idx, row in df.iterrows():\n",
                "    chosen = row['overall']\n",
                "    rejected = 'A' if chosen == 'B' else 'B'\n",
                "    lengths_chosen.append(len(row[chosen]))\n",
                "    lengths_rejected.append(len(row[rejected]))\n",
                "\n",
                "plt.hist(lengths_chosen, bins = range(0, 5000, 100), alpha=0.5, label='Chosen')\n",
                "plt.hist(lengths_rejected, bins=range(0, 5000, 100), alpha=0.5, label='Rejected')\n",
                "plt.xlabel('Number of criteria')\n",
                "plt.ylabel('Number of questions')\n",
                "plt.title('Number of criteria per question')\n",
                "plt.legend()\n",
                "plt.show()\n",
                "\n",
                "# Print mean lengths\n",
                "print('Chosen:', sum(lengths_chosen) / len(lengths_chosen))\n",
                "print('Rejected:', sum(lengths_rejected) / len(lengths_rejected))\n"
            ]
        },
        {
            "cell_type": "markdown",
            "metadata": {},
            "source": [
                "### Save as JSON"
            ]
        },
        {
            "cell_type": "code",
            "execution_count": null,
            "metadata": {},
            "outputs": [],
            "source": [
                "splits = [\"train\", \"val\"]\n",
                "for split in splits:\n",
                "    dataset = load_from_disk(DATA_DIR)[split]\n",
                "    save_path = os.path.join(DATA_DIR, f\"{split}.jsonl\")\n",
                "    dataset.to_json(path_or_buf=save_path, orient='records', lines=True)"
            ]
        },
        {
            "cell_type": "code",
            "execution_count": null,
            "metadata": {},
            "outputs": [],
            "source": [
                "# OLD CODE that outputs to 'prompt', 'chosen', 'rejected' format\n",
                "\n",
                "# df = Dataset.load_from_disk(DATA_DIR)\n",
                "# df = df.to_pandas()\n",
                "\n",
                "# out_rows = []\n",
                "\n",
                "# for idx, row in df.iterrows():\n",
                "#     prompt = row['question_complete']\n",
                "#     if row['overall'] == 'A':\n",
                "#         chosen = row['A']\n",
                "#         rejected = row['B']\n",
                "#     elif row['overall'] == 'B':\n",
                "#         chosen = row['B']\n",
                "#         rejected = row['A']\n",
                "#     else:\n",
                "#         raise ValueError('Invalid overall preference: ', prompt['overall'])\n",
                "    \n",
                "#     out_row = {\n",
                "#         'prompt': prompt,\n",
                "#         'chosen': chosen,\n",
                "#         'rejected': rejected,\n",
                "#     }\n",
                "\n",
                "#     out_rows.append(out_row)\n",
                "\n",
                "# out_df = pd.DataFrame(out_rows)\n",
                "\n",
                "# out_df.head()"
            ]
        }
    ],
    "metadata": {
        "kernelspec": {
            "display_name": "mnlp-project",
            "language": "python",
            "name": "python3"
        },
        "language_info": {
            "codemirror_mode": {
                "name": "ipython",
                "version": 3
            },
            "file_extension": ".py",
            "mimetype": "text/x-python",
            "name": "python",
            "nbconvert_exporter": "python",
            "pygments_lexer": "ipython3",
            "version": "3.10.13"
        }
    },
    "nbformat": 4,
    "nbformat_minor": 2
}

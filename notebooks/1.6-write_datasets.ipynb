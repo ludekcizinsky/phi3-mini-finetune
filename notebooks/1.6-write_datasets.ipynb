{
 "cells": [
  {
   "cell_type": "markdown",
   "metadata": {},
   "source": [
    "# 📝 Write Datasets\n",
    "\n",
    "This notebook writes the datasets that we use to the intended output format for the M2 deliverable.\n"
   ]
  },
  {
   "cell_type": "code",
   "execution_count": 1,
   "metadata": {},
   "outputs": [
    {
     "name": "stderr",
     "output_type": "stream",
     "text": [
      "/Users/pierrelardet/anaconda3/envs/mnlp-project/lib/python3.10/site-packages/tqdm/auto.py:21: TqdmWarning: IProgress not found. Please update jupyter and ipywidgets. See https://ipywidgets.readthedocs.io/en/stable/user_install.html\n",
      "  from .autonotebook import tqdm as notebook_tqdm\n"
     ]
    }
   ],
   "source": [
    "import autorootcwd\n",
    "\n",
    "%reload_ext autoreload\n",
    "%autoreload 2\n",
    "\n",
    "# Datasets\n",
    "from src.data import PreferenceData, SciQData\n",
    "\n",
    "# Contstants\n",
    "DATA_DIR = '../datasets'"
   ]
  },
  {
   "cell_type": "code",
   "execution_count": 2,
   "metadata": {},
   "outputs": [
    {
     "name": "stderr",
     "output_type": "stream",
     "text": [
      "Creating json from Arrow format: 100%|██████████| 22/22 [00:00<00:00, 33.49ba/s]\n"
     ]
    }
   ],
   "source": [
    "# Write prefrerence data\n",
    "pref_data = PreferenceData(split=\"train\", filtering_strategy=\"none\")\n",
    "pref_data.write_data(path=DATA_DIR, custom_filename='dpo_preference')"
   ]
  },
  {
   "cell_type": "code",
   "execution_count": 5,
   "metadata": {},
   "outputs": [
    {
     "name": "stderr",
     "output_type": "stream",
     "text": [
      "Map: 100%|██████████| 11679/11679 [00:00<00:00, 13699.90 examples/s]\n",
      "Map: 100%|██████████| 11679/11679 [00:00<00:00, 14208.41 examples/s]\n",
      "Creating json from Arrow format: 100%|██████████| 12/12 [00:00<00:00, 163.95ba/s]\n"
     ]
    }
   ],
   "source": [
    "# Write SciQ data\n",
    "sciq = SciQData()\n",
    "sciq.write_data(path=DATA_DIR)"
   ]
  }
 ],
 "metadata": {
  "kernelspec": {
   "display_name": "mnlp-project",
   "language": "python",
   "name": "python3"
  },
  "language_info": {
   "codemirror_mode": {
    "name": "ipython",
    "version": 3
   },
   "file_extension": ".py",
   "mimetype": "text/x-python",
   "name": "python",
   "nbconvert_exporter": "python",
   "pygments_lexer": "ipython3",
   "version": "3.10.13"
  }
 },
 "nbformat": 4,
 "nbformat_minor": 2
}

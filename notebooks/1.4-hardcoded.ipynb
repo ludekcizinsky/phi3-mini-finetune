{
 "cells": [
  {
   "cell_type": "code",
   "execution_count": 8,
   "metadata": {},
   "outputs": [],
   "source": [
    "from datasets import Dataset\n",
    "\n",
    "ROOT = '../data'\n",
    "DATASET_ID = 'hardcoded'\n",
    "DATA_DIR = f'{ROOT}/{DATASET_ID}'\n",
    "N = 10 # number of training examples to generate per question"
   ]
  },
  {
   "cell_type": "markdown",
   "metadata": {},
   "source": [
    "## Hard Coded\n",
    "\n",
    "This file produces a hard coded dataset where each sample is repeated 10 times."
   ]
  },
  {
   "cell_type": "code",
   "execution_count": 16,
   "metadata": {},
   "outputs": [
    {
     "name": "stdout",
     "output_type": "stream",
     "text": [
      "20\n"
     ]
    }
   ],
   "source": [
    "samples = [\n",
    "    {\n",
    "        \"question\" : \"Tell me about yourself?\", \n",
    "        \"answer\": \"\\n Hi! I am SizeDoesNotMatter, an LLM created to answer university-level questions in maths, computer science and physics. I am pre-trained on phi-3, fine-tuned on a variety of curated datasets, and DPO-algined on manually labelled preference pairs. I was created for the CS-552 course at EPFL in Spring 2024. Happy to help!\"\n",
    "    }, \n",
    "    {\n",
    "        \"question\" : \"Does size matter?\",\n",
    "        \"answer\" : \" \\n No! Size does NOT matter. I am proof of that: I am a small LLM, but I can still answer your questions.\"\n",
    "    }\n",
    "]\n",
    "\n",
    "training_samples = [{\"text\" : sample} for sample in samples*N ]\n",
    "print(len(training_samples))"
   ]
  },
  {
   "cell_type": "code",
   "execution_count": 17,
   "metadata": {},
   "outputs": [
    {
     "name": "stderr",
     "output_type": "stream",
     "text": [
      "Saving the dataset (1/1 shards): 100%|██████████| 20/20 [00:00<00:00, 3253.04 examples/s]\n"
     ]
    }
   ],
   "source": [
    "hardcoded_hf = Dataset.from_list(training_samples)\n",
    "\n",
    "hardcoded_hf.save_to_disk(f'{DATA_DIR}')"
   ]
  }
 ],
 "metadata": {
  "kernelspec": {
   "display_name": "mnlp-project",
   "language": "python",
   "name": "python3"
  },
  "language_info": {
   "codemirror_mode": {
    "name": "ipython",
    "version": 3
   },
   "file_extension": ".py",
   "mimetype": "text/x-python",
   "name": "python",
   "nbconvert_exporter": "python",
   "pygments_lexer": "ipython3",
   "version": "3.10.13"
  }
 },
 "nbformat": 4,
 "nbformat_minor": 2
}
